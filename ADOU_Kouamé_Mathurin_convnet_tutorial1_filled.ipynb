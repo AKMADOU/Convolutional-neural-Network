{
  "cells": [
    {
      "cell_type": "markdown",
      "metadata": {
        "id": "view-in-github",
        "colab_type": "text"
      },
      "source": [
        "<a href=\"https://colab.research.google.com/github/AKMADOU/Convolutional-neural-Network/blob/main/ADOU_Kouam%C3%A9_Mathurin_convnet_tutorial1_filled.ipynb\" target=\"_parent\"><img src=\"https://colab.research.google.com/assets/colab-badge.svg\" alt=\"Open In Colab\"/></a>"
      ]
    },
    {
      "cell_type": "code",
      "execution_count": null,
      "metadata": {
        "id": "hqnl0AKVXIA4"
      },
      "outputs": [],
      "source": [
        "import torch\n",
        "from torch import Tensor"
      ]
    },
    {
      "cell_type": "markdown",
      "metadata": {
        "id": "8PQubmNHF31J"
      },
      "source": [
        "# Tutorial 1b: Softmax Function"
      ]
    },
    {
      "cell_type": "markdown",
      "metadata": {
        "id": "g1DV-MS2bxYq"
      },
      "source": [
        "**Question:** To have the logistic regressor output probabilities, they need to be processed through a softmax layer. Implement a softmax layer yourself. What numerical issues may arise in this layer? How can you solve them? Use the testing code to confirm you implemented it correctly."
      ]
    },
    {
      "cell_type": "code",
      "execution_count": null,
      "metadata": {
        "id": "m667SJvUF31K"
      },
      "outputs": [],
      "source": [
        "logits = torch.rand((1, 20)) + 100"
      ]
    },
    {
      "cell_type": "code",
      "execution_count": null,
      "metadata": {
        "id": "Dj4X2PnOfK9W"
      },
      "outputs": [],
      "source": [
        "def bad_softmax(x: Tensor) -> Tensor:\n",
        "    return torch.exp(x) / torch.sum(torch.exp(logits), axis=1)"
      ]
    },
    {
      "cell_type": "code",
      "source": [
        "bad_softmax(logits)"
      ],
      "metadata": {
        "colab": {
          "base_uri": "https://localhost:8080/"
        },
        "id": "UdI-Ha6jZldJ",
        "outputId": "763ba1ac-18a8-4296-8259-8018f4225fa7"
      },
      "execution_count": null,
      "outputs": [
        {
          "output_type": "execute_result",
          "data": {
            "text/plain": [
              "tensor([[nan, nan, nan, nan, nan, nan, nan, nan, nan, nan, nan, nan, nan, nan, nan, nan, nan, nan, nan, nan]])"
            ]
          },
          "metadata": {},
          "execution_count": 4
        }
      ]
    },
    {
      "cell_type": "code",
      "execution_count": null,
      "metadata": {
        "id": "5eJ6qNTLF31L",
        "colab": {
          "base_uri": "https://localhost:8080/"
        },
        "outputId": "425ffa77-28fb-4378-9a43-2604ca31348d"
      },
      "outputs": [
        {
          "output_type": "execute_result",
          "data": {
            "text/plain": [
              "tensor(nan)"
            ]
          },
          "metadata": {},
          "execution_count": 5
        }
      ],
      "source": [
        "torch.sum(bad_softmax(logits))"
      ]
    },
    {
      "cell_type": "code",
      "execution_count": null,
      "metadata": {
        "id": "mVlxmoYKF31L"
      },
      "outputs": [],
      "source": [
        "def good_softmax(x: Tensor) -> Tensor:\n",
        "    ###########################################################################\n",
        "    # TODO: Implement a more stable way to compute softmax                    #\n",
        "    ###########################################################################\n",
        "    z=x-torch.max(x)\n",
        "    return torch.exp(z)/torch.sum(torch.exp(logits-torch.max(x)),axis=1)"
      ]
    },
    {
      "cell_type": "code",
      "source": [
        "good_softmax(logits)"
      ],
      "metadata": {
        "colab": {
          "base_uri": "https://localhost:8080/"
        },
        "id": "KAIjhjXIZsBw",
        "outputId": "8f5ed82f-e8b3-40f8-cc18-476e640ed873"
      },
      "execution_count": null,
      "outputs": [
        {
          "output_type": "execute_result",
          "data": {
            "text/plain": [
              "tensor([[0.0624, 0.0725, 0.0465, 0.0410, 0.0431, 0.0575, 0.0704, 0.0382, 0.0633,\n",
              "         0.0322, 0.0472, 0.0375, 0.0325, 0.0412, 0.0349, 0.0605, 0.0430, 0.0706,\n",
              "         0.0330, 0.0727]])"
            ]
          },
          "metadata": {},
          "execution_count": 7
        }
      ]
    },
    {
      "cell_type": "code",
      "execution_count": null,
      "metadata": {
        "id": "rCV4pAWGF31M",
        "colab": {
          "base_uri": "https://localhost:8080/"
        },
        "outputId": "501ae371-13ef-4ffb-fcc2-ad2631c6365c"
      },
      "outputs": [
        {
          "output_type": "execute_result",
          "data": {
            "text/plain": [
              "tensor(1.0000)"
            ]
          },
          "metadata": {},
          "execution_count": 8
        }
      ],
      "source": [
        "torch.sum(good_softmax(logits))"
      ]
    },
    {
      "cell_type": "markdown",
      "metadata": {
        "id": "4C_J5S0RScXJ"
      },
      "source": [
        "Because of numerical issues like the one you just experiences, PyTorch code typically uses a `LogSoftmax` layer."
      ]
    },
    {
      "cell_type": "code",
      "source": [
        "# def good_softmax(x: Tensor) -> Tensor:\n",
        "#     ###########################################################################\n",
        "#     # TODO: Implement a more stable way to compute softmax                    #\n",
        "#     ###########################################################################\n",
        "#     return x-torch.log(torch.sum(torch.exp(logits),axis=1))"
      ],
      "metadata": {
        "id": "JSKgChC4aSeg"
      },
      "execution_count": null,
      "outputs": []
    },
    {
      "cell_type": "code",
      "source": [
        "# good_softmax(logits)"
      ],
      "metadata": {
        "id": "1yzHEOeuabF4"
      },
      "execution_count": null,
      "outputs": []
    },
    {
      "cell_type": "markdown",
      "metadata": {
        "id": "lgStX-ctjIms"
      },
      "source": [
        "**Question [optional]:** PyTorch automatically computes the backpropagation gradient of a module for you. However, it can be instructive to derive and implement your own backward function. Try and implement the backward function for your softmax module and confirm that it is correct."
      ]
    },
    {
      "cell_type": "markdown",
      "source": [
        "$Softmax=\\frac{exp(x_i)}{\\sum_{j}exp(x_j)}$\n",
        "\n",
        "The derivative of the sotfmax is:\n",
        "\n",
        "\n",
        "$(Softmax)'=(\\frac{exp(x_i)}{\\sum_{j}exp(x_j)})'$\n",
        "\n",
        "\n",
        "\n",
        "$(Softmax)' = \\begin{cases} \\frac{exp(x_i)}{\\sum_{i}exp(x_i)}(1-\\frac{exp(x_j)}{\\sum_{j}exp(x_j)}), & \\mbox{if } i= j \\\\ -\\frac{exp(x_i)}{\\sum_{i}exp(x_i)}×\\frac{exp(x_j)}{\\sum_{j}exp(x_j)}, & \\mbox{if } i\\neq j \\end{cases}$\n",
        "\n",
        "\n"
      ],
      "metadata": {
        "id": "oYQGElM-AuFl"
      }
    },
    {
      "cell_type": "code",
      "source": [
        "def softmax_derivative(x):\n",
        "  X=[]#torch.eye(N)\n",
        "  for i in range(x.shape[0]):\n",
        "    for j in range(x.shape[0]):\n",
        "      if i==j:\n",
        "        X.append(good_softmax(x[i])*(1-good_softmax(x[j]))) \n",
        "      else:  \n",
        "        X.append(-1*good_softmax(x[j])*(good_softmax(x[i])))\n",
        "  return X"
      ],
      "metadata": {
        "id": "6-IQaGfIWMTs"
      },
      "execution_count": null,
      "outputs": []
    },
    {
      "cell_type": "code",
      "source": [
        "softmax_derivative(logits)"
      ],
      "metadata": {
        "colab": {
          "base_uri": "https://localhost:8080/"
        },
        "id": "uydkm5vqDid0",
        "outputId": "582ea81b-7cc2-41cd-badc-22abac617be8"
      },
      "execution_count": null,
      "outputs": [
        {
          "output_type": "execute_result",
          "data": {
            "text/plain": [
              "[tensor([0.0585, 0.0673, 0.0444, 0.0393, 0.0412, 0.0542, 0.0654, 0.0367, 0.0593,\n",
              "         0.0311, 0.0449, 0.0360, 0.0315, 0.0395, 0.0336, 0.0568, 0.0412, 0.0656,\n",
              "         0.0319, 0.0674])]"
            ]
          },
          "metadata": {},
          "execution_count": 10
        }
      ]
    },
    {
      "cell_type": "code",
      "source": [
        ""
      ],
      "metadata": {
        "id": "_Q94Uq9oDmQc"
      },
      "execution_count": null,
      "outputs": []
    }
  ],
  "metadata": {
    "accelerator": "GPU",
    "colab": {
      "collapsed_sections": [],
      "name": "ADOU_Kouamé_Mathurin convnet_tutorial1_filled.ipynb",
      "provenance": [],
      "include_colab_link": true
    },
    "kernelspec": {
      "display_name": "convnet_tutorials",
      "language": "python",
      "name": "convnet_tutorials"
    },
    "language_info": {
      "codemirror_mode": {
        "name": "ipython",
        "version": 3
      },
      "file_extension": ".py",
      "mimetype": "text/x-python",
      "name": "python",
      "nbconvert_exporter": "python",
      "pygments_lexer": "ipython3",
      "version": "3.9.10"
    }
  },
  "nbformat": 4,
  "nbformat_minor": 0
}